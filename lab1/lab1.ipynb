{
 "cells": [
  {
   "cell_type": "code",
   "execution_count": 1,
   "metadata": {},
   "outputs": [],
   "source": [
    "import sys\n",
    "sys.path.insert(0, 'visualization.py')\n",
    "sys.path.insert(0, 'utils.py')"
   ]
  },
  {
   "cell_type": "code",
   "execution_count": 2,
   "metadata": {},
   "outputs": [
    {
     "name": "stdout",
     "output_type": "stream",
     "text": [
      "Jupyter environment detected. Enabling Open3D WebVisualizer.\n",
      "[Open3D INFO] WebRTC GUI backend enabled.\n",
      "[Open3D INFO] WebRTCWindowSystem: HTTP handshake server disabled.\n"
     ]
    },
    {
     "name": "stderr",
     "output_type": "stream",
     "text": [
      "INFO - 2024-11-23 13:10:58,650 - utils - NumExpr defaulting to 2 threads.\n",
      "/usr/local/lib/python3.8/dist-packages/pandas/core/computation/expressions.py:20: UserWarning: Pandas requires version '2.7.3' or newer of 'numexpr' (version '2.7.1' currently installed).\n",
      "  from pandas.core.computation.check import NUMEXPR_INSTALLED\n"
     ]
    }
   ],
   "source": [
    "# /!\\ Before running the lab make sure every additional libraries is installed \n",
    "\n",
    "# Import local libraries\n",
    "from visualization import *\n",
    "from utils import *\n"
   ]
  },
  {
   "cell_type": "markdown",
   "metadata": {},
   "source": [
    "# Task n°1\n"
   ]
  },
  {
   "cell_type": "markdown",
   "metadata": {},
   "source": [
    "This exercise is about showing measurements made by the Intelligent Road-Side Unit (IRSU) positioned at the center of the intersection:\n",
    "- 1 point clouds collected by a 32-channel LiDAR"
   ]
  },
  {
   "cell_type": "markdown",
   "metadata": {},
   "source": [
    "The functions you need to modify are located in:\n",
    "-  box_to_corner -> visualization.py\n",
    "\n",
    "-  get_boxes_in_actor_frame -> utils.py"
   ]
  },
  {
   "cell_type": "code",
   "execution_count": 3,
   "metadata": {},
   "outputs": [
    {
     "name": "stdout",
     "output_type": "stream",
     "text": [
      "(10, 8)\n"
     ]
    }
   ],
   "source": [
    "n_frame = 0\n",
    "actor = 'ego_vehicle'\n",
    "\n",
    "irsu_points = get_point_cloud(n_frame, actor)\n",
    "irsu_boxes = get_boxes_in_actor_frame(n_frame, actor)\n",
    "print(irsu_boxes.shape)\n",
    "box_colors = CLASS_COLORS[irsu_boxes[:, -1].astype(np.int32)]\n",
    "\n",
    "\n",
    "show_objects(irsu_points[:,:3], irsu_boxes[:,:7], box_colors)"
   ]
  },
  {
   "cell_type": "markdown",
   "metadata": {},
   "source": [
    "# Task n°2"
   ]
  },
  {
   "cell_type": "markdown",
   "metadata": {},
   "source": [
    "This exercise demonstrates how the field of view and perception range of a vehicle can be enhanced by receiving data from other vehicles and the IRSU."
   ]
  },
  {
   "cell_type": "markdown",
   "metadata": {},
   "source": [
    "The functions you need to modify are:\n",
    "-  box_to_corner (already done in task 1) -> visualization.py\n",
    "-  get_available_point_clouds, get_available_boxes_in_ego_frame, get_boxes_in_actor_frame(already done in task 1) -> utils.py"
   ]
  },
  {
   "cell_type": "code",
   "execution_count": 4,
   "metadata": {},
   "outputs": [
    {
     "name": "stdout",
     "output_type": "stream",
     "text": [
      "(51, 8)\n"
     ]
    }
   ],
   "source": [
    "n_frame = 0\n",
    "actors = [\"ego_vehicle\" ,\"other_vehicle\",   \"ego_vehicle_behind\",\"other_vehicle_behind\" ,\"infrastructure\",]#\n",
    "\n",
    "merged_points = get_available_point_clouds(n_frame, actors)\n",
    "irsu_boxes = get_available_boxes_in_ego_frame(n_frame, actors)\n",
    "print(irsu_boxes.shape)\n",
    "box_colors = CLASS_COLORS[irsu_boxes[:, -1].astype(np.int32)]\n",
    "\n",
    "show_objects(merged_points, irsu_boxes[:,:7], box_colors)"
   ]
  },
  {
   "cell_type": "markdown",
   "metadata": {},
   "source": [
    "# Task n°3"
   ]
  },
  {
   "cell_type": "markdown",
   "metadata": {},
   "source": [
    "Build a BEV occupancy grid of the environment"
   ]
  },
  {
   "cell_type": "markdown",
   "metadata": {},
   "source": [
    "A main challenge in perception on point clouds is their unordered nature which hinders the application of the Convolution operation, thus preventing the use of many wonders in the world of image-based perception. An effective way to get around this challenge is to convert point clouds to BEV images. In other word, to look at a point cloud from the top-view which is what you are going to do in this exercise."
   ]
  },
  {
   "cell_type": "markdown",
   "metadata": {},
   "source": [
    "The functions you need to modify are :\n",
    "-  box_to_pixels, points_to_pixels-> visualization.py\n",
    "-  filter_points -> utils.py"
   ]
  },
  {
   "cell_type": "code",
   "execution_count": 7,
   "metadata": {},
   "outputs": [
    {
     "data": {
      "text/plain": [
       "<matplotlib.image.AxesImage at 0x7f289c122430>"
      ]
     },
     "execution_count": 7,
     "metadata": {},
     "output_type": "execute_result"
    },
    {
     "data": {
      "image/png": "[encoded data removed]",
      "text/plain": [
       "<Figure size 640x480 with 1 Axes>"
      ]
     },
     "metadata": {},
     "output_type": "display_data"
    }
   ],
   "source": [
    "\n",
    "n_frame = 0\n",
    "actors = [\"ego_vehicle\" ,\"other_vehicle\",   \"ego_vehicle_behind\",\"other_vehicle_behind\",\"infrastructure\",]\n",
    "merged_points = get_available_point_clouds(n_frame, actors)\n",
    "irsu_boxes = get_available_boxes_in_ego_frame(n_frame, actors)\n",
    "box_colors = CLASS_COLORS[irsu_boxes[:, -1].astype(np.int32)]\n",
    "\n",
    "# ------------------ Get Waypoints that belongs to the ground floor ------------------\n",
    "points_range = np.array([-50, -50, -25, 50, 50, 0.01])  # xmin, ymin, zmin, xmax, ymax, zmax (meters) around ego_vehicle\n",
    "\n",
    "filtered_points = filter_points(merged_points, points_range)\n",
    "show_objects(filtered_points, irsu_boxes[:,:7], box_colors)\n",
    "\n",
    "# ------------------  Build BEV image  ------------------  \n",
    "bev_resolution = 0.1 # meters / pixel\n",
    "bev_imsize = np.ceil((points_range[3: 5] - points_range[:2]) / bev_resolution).astype(int)  # (width, height)\n",
    "bev_occupancy = np.zeros((bev_imsize[1], bev_imsize[0]))\n",
    "\n",
    "# ------------------  Project bbox of actors on the image  ------------------  \n",
    "box_mask = box_to_pixels(irsu_boxes[:,:7], bev_imsize, bev_resolution)\n",
    "bev_occupancy[box_mask > 0] = 255\n",
    "\n",
    "# ------------------  Project navigable space on the image ------------------  \n",
    "navigable_space = points_to_pixels(filtered_points, bev_imsize, bev_resolution)\n",
    "\n",
    "for pixel in navigable_space:\n",
    "   bev_occupancy[pixel[1], pixel[0]] = 150\n",
    "\n",
    "\n",
    "plt.imshow(bev_occupancy)\n"
   ]
  },
  {
   "cell_type": "markdown",
   "metadata": {},
   "source": [
    "# Task n°4: \n",
    "Segment points according to object's class"
   ]
  },
  {
   "cell_type": "code",
   "execution_count": 19,
   "metadata": {},
   "outputs": [
    {
     "data": {
      "image/png": "[encoded data removed]",
      "text/plain": [
       "<Figure size 640x480 with 1 Axes>"
      ]
     },
     "metadata": {},
     "output_type": "display_data"
    }
   ],
   "source": [
    "# Each detection is attached with one class label, use it to filter out the detections of interest (e.g. vehicles, pedestrians, etc.)\n",
    "\n",
    "# Define the class colors\n",
    "CLASS_COLORS = {\n",
    "    0.0: [255, 0, 0],    # Red for class 0 - Cars?\n",
    "    1.0: [0, 255, 0],    # Green for class 1 - Maybe its a truck?\n",
    "    2.0: [0, 0, 255],    # Blue for class 2 - Cyclist?\n",
    "    3.0: [255, 255, 0],  # Yellow for class 3 - Traffic lights?\n",
    "    # Add other classes as needed\n",
    "}\n",
    "\n",
    "# ------------------  Initialize BEV RGB Image ------------------  \n",
    "bev_rgb_image = np.zeros((bev_imsize[1], bev_imsize[0], 3), dtype=np.uint8)\n",
    "\n",
    "# ------------------  Project bbox of actors on the image ------------------  \n",
    "for i, box in enumerate(irsu_boxes):\n",
    "    class_label = float(box[-1])  # Extract the class label\n",
    "    color = CLASS_COLORS.get(class_label, [255, 255, 255])  # Default to white if class not found\n",
    "\n",
    "    # Create a mask for the current box\n",
    "    single_box_mask = box_to_pixels(box[:7].reshape(1, 7), bev_imsize, bev_resolution)\n",
    "\n",
    "    # Apply the color to the corresponding pixels in the BEV image\n",
    "    for c in range(3):  # Iterate over RGB channels\n",
    "        bev_rgb_image[:, :, c] = np.where(single_box_mask > 0, color[c], bev_rgb_image[:, :, c])\n",
    "\n",
    "# ------------------  Project navigable space on the image ------------------  \n",
    "navigable_space = points_to_pixels(filtered_points, bev_imsize, bev_resolution)\n",
    "\n",
    "# Apply a specific color for navigable space (e.g., gray)\n",
    "for pixel in navigable_space:\n",
    "    bev_rgb_image[pixel[1], pixel[0], :] = [150, 150, 150]  # Gray for navigable space\n",
    "\n",
    "# ------------------  Display the BEV Image ------------------  \n",
    "plt.imshow(bev_rgb_image)\n",
    "plt.show()"
   ]
  }
 ],
 "metadata": {
  "kernelspec": {
   "display_name": "Python 3",
   "language": "python",
   "name": "python3"
  },
  "language_info": {
   "codemirror_mode": {
    "name": "ipython",
    "version": 3
   },
   "file_extension": ".py",
   "mimetype": "text/x-python",
   "name": "python",
   "nbconvert_exporter": "python",
   "pygments_lexer": "ipython3",
   "version": "3.8.10"
  }
 },
 "nbformat": 4,
 "nbformat_minor": 2
}
