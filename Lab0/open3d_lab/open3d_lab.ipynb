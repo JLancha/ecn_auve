{
 "cells": [
  {
   "cell_type": "code",
   "execution_count": 1,
   "metadata": {},
   "outputs": [],
   "source": [
    "import sys\n",
    "sys.path.insert(0, 'utils.py')"
   ]
  },
  {
   "cell_type": "code",
   "execution_count": 2,
   "metadata": {},
   "outputs": [
    {
     "name": "stdout",
     "output_type": "stream",
     "text": [
      "Jupyter environment detected. Enabling Open3D WebVisualizer.\n",
      "[Open3D INFO] WebRTC GUI backend enabled.\n",
      "[Open3D INFO] WebRTCWindowSystem: HTTP handshake server disabled.\n"
     ]
    },
    {
     "name": "stderr",
     "output_type": "stream",
     "text": [
      "INFO - 2024-11-06 15:03:15,613 - utils - NumExpr defaulting to 2 threads.\n",
      "/usr/local/lib/python3.8/dist-packages/pandas/core/computation/expressions.py:20: UserWarning: Pandas requires version '2.7.3' or newer of 'numexpr' (version '2.7.1' currently installed).\n",
      "  from pandas.core.computation.check import NUMEXPR_INSTALLED\n"
     ]
    }
   ],
   "source": [
    "# /!\\ Before running the lab make sure every additional libraries is installed \n",
    "\n",
    "# Import local libraries\n",
    "from utils import *\n",
    "import time"
   ]
  },
  {
   "cell_type": "markdown",
   "metadata": {},
   "source": [
    "# Reading of one LiDAR scan"
   ]
  },
  {
   "cell_type": "code",
   "execution_count": 3,
   "metadata": {},
   "outputs": [],
   "source": [
    "n_frame = 0\n",
    "actor = 'ego_vehicle'\n",
    "\n",
    "points = get_point_cloud(n_frame, actor)\n",
    "\n",
    "pcd = o3d.geometry.PointCloud()\n",
    "pcd.points = o3d.utility.Vector3dVector(points)\n",
    "\n",
    "flag_display = True"
   ]
  },
  {
   "cell_type": "markdown",
   "metadata": {},
   "source": [
    "# Voxel Down sampling\n",
    "\n",
    "To reduce the number of points and accelerate the computation use the function _voxel_down_sample()_ of open3D."
   ]
  },
  {
   "cell_type": "code",
   "execution_count": 4,
   "metadata": {},
   "outputs": [],
   "source": [
    "downpcd = pcd # ToDo (Replace this line) \n",
    "downpcd = pcd.voxel_down_sample(0.1)\n",
    "if flag_display:\n",
    "    o3d.visualization.draw_geometries([downpcd])"
   ]
  },
  {
   "cell_type": "markdown",
   "metadata": {},
   "source": [
    "# Normals estimation\n",
    "We would like to detect opstacles, to do that the first step is to estimate normals to obtain the local orientation of the point cloud.\n",
    "\n",
    "Use the function _estimate_normals()_ of open3D to estimate this normals."
   ]
  },
  {
   "cell_type": "code",
   "execution_count": 5,
   "metadata": {},
   "outputs": [],
   "source": [
    "#ToDo estimate the normals\n",
    "downpcd.estimate_normals()\n",
    "if flag_display:\n",
    "    o3d.visualization.draw_geometries([downpcd], point_show_normal=True)"
   ]
  },
  {
   "cell_type": "code",
   "execution_count": 6,
   "metadata": {},
   "outputs": [],
   "source": [
    "downpcd.colors = o3d.utility.Vector3dVector(np.abs(np.array(downpcd.normals)))\n",
    "\n",
    "if flag_display:\n",
    "    o3d.visualization.draw_geometries([downpcd])"
   ]
  },
  {
   "cell_type": "markdown",
   "metadata": {},
   "source": [
    "# Ground and objects segmentation\n",
    "\n",
    "Based on the height of each point, the local orientation of the points cloud arround this point and eventually the variation of this orientation filter the ground to obtain a new points cloud whith only the ground points and another one with only the objects on top of this ground.\n",
    "\n",
    "For both of these new points clouds you can also filter the points corresponding to the roof of the ego vehicle."
   ]
  },
  {
   "cell_type": "code",
   "execution_count": 7,
   "metadata": {},
   "outputs": [
    {
     "data": {
      "text/plain": [
       "'\\n    The points are distributed in this form:\\n    Point 1 - x y z\\n    Point 2 - x y z\\n    ...\\n    To extract the heights, i can get the third column of all the rows (Z coordinates of the points)\\n'"
      ]
     },
     "execution_count": 7,
     "metadata": {},
     "output_type": "execute_result"
    }
   ],
   "source": [
    "#Notes:\n",
    "#Deatch ground from objects based on a height threshold of the point coordinates\n",
    "#Then we can plot the normals to see that they should all point in the same direction\n",
    "#Or plot the difference of normals, to show that that should be small\n",
    "\n",
    "'''\n",
    "    The points are distributed in this form:\n",
    "    Point 1 - x y z\n",
    "    Point 2 - x y z\n",
    "    ...\n",
    "    To extract the heights, i can get the third column of all the rows (Z coordinates of the points)\n",
    "'''\n",
    "\n",
    "#Step 1 - Extract points from the point cloud\n",
    "#Step 2 - Extract the height of all the points\n",
    "    #An extra threshold can be used, to keep only points that have a perpendicular normal\n",
    "#Step 3 - Select a subset of points whose height is smaller than the threshold (for ground) and higher than threshold (for objects)\n",
    "#Step 4 - Remove the roof of the car with a distance threshold to the points (radius of 2.5m worked well)\n",
    "#Step 5 - Rebuild a pointcloud for visualization\n",
    "\n",
    "#Plot the normals with absolute value, so that it points all in the same direction\n"
   ]
  },
  {
   "cell_type": "code",
   "execution_count": 9,
   "metadata": {},
   "outputs": [],
   "source": [
    "\n",
    "def ground_filtering(pcd):\n",
    "    points = np.array(pcd.points)\n",
    "    \n",
    "    height_threshold = 0.2\n",
    "    normal_threshold = 0.3\n",
    "    \n",
    "    normals = pcd.estimate_normals(search_param=o3d.geometry.KDTreeSearchParamHybrid(radius=0.4, max_nn=100))\n",
    "    normals = np.asarray(pcd.normals)\n",
    "    normals_xy = normals[:,:1]\n",
    "    normals_xy_norm = np.linalg.norm(normals_xy, axis=1)\n",
    "\n",
    "    ground_mask = points[:, 2] < height_threshold\n",
    "    normal_mask = normals_xy_norm < normal_threshold\n",
    "    combined_mask = ground_mask & normal_mask\n",
    "\n",
    "    ground_points = points[combined_mask]\n",
    "\n",
    "    pcd_ground = o3d.geometry.PointCloud()\n",
    "    pcd_ground.points = o3d.utility.Vector3dVector(ground_points)\n",
    "\n",
    "    car_threshold = 2.5\n",
    "    roof_mask = np.linalg.norm(ground_points, axis=1) > car_threshold\n",
    "    ground_points = ground_points[roof_mask]\n",
    "    \n",
    "    return pcd_ground\n",
    "\n",
    "pcd_ground = ground_filtering(downpcd)\n",
    "\n",
    "pcd_ground.estimate_normals()\n",
    "normals = np.asarray(pcd_ground.normals)\n",
    "normals_abs = np.abs(normals)\n",
    "pcd_ground.normals = o3d.utility.Vector3dVector(normals_abs)\n",
    "\n",
    "if flag_display:\n",
    "    o3d.visualization.draw_geometries([pcd_ground])\n",
    "    o3d.visualization.draw_geometries([pcd_ground], point_show_normal=True)"
   ]
  },
  {
   "cell_type": "code",
   "execution_count": 10,
   "metadata": {},
   "outputs": [],
   "source": [
    "def objects_filtering(pcd):\n",
    "    points = np.array(pcd.points)\n",
    "    \n",
    "    height_threshold = 0.2\n",
    "    normal_threshold = 0.3\n",
    "    \n",
    "    normals = pcd.estimate_normals(search_param=o3d.geometry.KDTreeSearchParamHybrid(radius=0.4, max_nn=100))\n",
    "    normals = np.asarray(pcd.normals)\n",
    "    normals_xy = normals[:,:1]\n",
    "    normals_xy_norm = np.linalg.norm(normals_xy, axis=1)\n",
    "\n",
    "    ground_mask = points[:, 2] > height_threshold\n",
    "    normal_mask = normals_xy_norm > normal_threshold\n",
    "    combined_mask = ground_mask | normal_mask\n",
    "\n",
    "    object_points = points[combined_mask]\n",
    "\n",
    "    car_threshold = 2.5\n",
    "    roof_mask = (np.linalg.norm(object_points, axis=1) > car_threshold)\n",
    "    object_points = object_points[roof_mask]\n",
    "\n",
    "    pcd_objects = o3d.geometry.PointCloud()\n",
    "    pcd_objects.points = o3d.utility.Vector3dVector(object_points)\n",
    "    \n",
    "    return pcd_objects\n",
    "\n",
    "pcd_objects = objects_filtering(downpcd)\n",
    "\n",
    "if flag_display:\n",
    "    o3d.visualization.draw_geometries([pcd_objects])"
   ]
  },
  {
   "cell_type": "markdown",
   "metadata": {},
   "source": [
    "# Clustering\n",
    "\n",
    "Now that the points of the objects are not connected to the ground anymore we can regroup all the points of the same object on one cluster.\n",
    "\n",
    "To do that, use the function _cluster_dbscan()_ of open3D to obtain the cluster id for each point."
   ]
  },
  {
   "cell_type": "code",
   "execution_count": 11,
   "metadata": {},
   "outputs": [
    {
     "name": "stdout",
     "output_type": "stream",
     "text": [
      "Precompute neighbors.[========================================] 100%\n",
      "The points cloud has 53 clusters=================> ] 95%\n"
     ]
    }
   ],
   "source": [
    "def clustering(pcd_objects):\n",
    "    \n",
    "    cluster_ids = np.array(\n",
    "        pcd_objects.cluster_dbscan(eps=2, min_points=10, print_progress=True)) # ToDo (Replace this line)\n",
    "    \n",
    "    cluster_nb = cluster_ids.max()\n",
    "    colors = plt.get_cmap(\"tab20\")(cluster_ids / (cluster_nb if cluster_nb > 0 else 1))\n",
    "    colors[cluster_ids < 0] = 0\n",
    "    pcd_objects.colors = o3d.utility.Vector3dVector(colors[:, :3])\n",
    "    return pcd_objects, cluster_ids\n",
    "\n",
    "pcd_objects, cluster_ids = clustering(pcd_objects)\n",
    "\n",
    "print(\"The points cloud has\", cluster_ids.max() + 1, \"clusters\")\n",
    "\n",
    "if flag_display:\n",
    "    o3d.visualization.draw_geometries([pcd_objects])"
   ]
  },
  {
   "cell_type": "markdown",
   "metadata": {},
   "source": [
    "# Bounding Boxes estimation\n",
    "Estimate for each of these clusters its bounding box. You can use the function _get_axis_aligned_bounding_box()_ or _get_oriented_bounding_box()_ of open3D.\n",
    "\n",
    "What are the limits of these functions ?\n",
    "\n",
    "You can keep only the small bounding boxes correponding to the small objects (such as vehicles or pedestrians and not buildings)"
   ]
  },
  {
   "cell_type": "code",
   "execution_count": 12,
   "metadata": {},
   "outputs": [],
   "source": [
    "def cluster_boxes(pcd_objects, cluster_ids):\n",
    "    \n",
    "    # Bounding boxes\n",
    "    boxes = []\n",
    "    points = np.asarray(pcd_objects.points) #Extract all the points from the objects\n",
    "    \n",
    "    for i in range(cluster_ids.max() + 1):          #loop through clusters\n",
    "        cluster_points = points[cluster_ids == i]\n",
    "\n",
    "        cluster_pcd = o3d.geometry.PointCloud()\n",
    "        cluster_pcd.points = o3d.utility.Vector3dVector(cluster_points)\n",
    "\n",
    "        # Create the OrientedBoundingBox for this cluster\n",
    "        bbox = cluster_pcd.get_oriented_bounding_box()\n",
    "\n",
    "        bbox_extent = bbox.extent\n",
    "        max_size = 5.5  #By trial and error, this was a value that allowed to select all the important obstacles (cars, signs, pedestrians) and not the buildings\n",
    "        if all(bbox_extent <= np.array(max_size)):\n",
    "            # Add the bounding box to the list\n",
    "            boxes.append(bbox)\n",
    "    return boxes\n",
    "\n",
    "boxes = cluster_boxes(pcd_objects, cluster_ids)\n",
    "\n",
    "obj_to_display = boxes\n",
    "obj_to_display.append(pcd_objects)\n",
    "\n",
    "if flag_display:\n",
    "    o3d.visualization.draw_geometries(obj_to_display)"
   ]
  },
  {
   "cell_type": "markdown",
   "metadata": {},
   "source": [
    "# Objects detection and tracking on LiDAR scans\n",
    "\n",
    "Applied the previous functions on the different scan to estimate the bounding boxes.\n",
    "\n",
    "### Bounding boxes association\n",
    "\n",
    "Create a function to associate the bounding boxes of the current time to the one of the previous time based the shortest distances of there centers.\n",
    "\n",
    "### Bounding boxes orientation estimation\n",
    "Based on these association estimate the orientation of there motion to correct the orientation of the bounding boxes.\n",
    "\n",
    "### Points cloud mapping\n",
    "Build a map by accumulating the different points cloud and removing the moving objects (keep the cluster id and add a new one for the ground points)\n",
    "\n",
    "### Iterative Closest Point tracking\n",
    "To better associate the clusters you can also use the function _icp()_ of open3D on each cluster"
   ]
  },
  {
   "cell_type": "code",
   "execution_count": 13,
   "metadata": {
    "scrolled": true
   },
   "outputs": [
    {
     "name": "stdout",
     "output_type": "stream",
     "text": [
      "Precompute neighbors.[========================================] 100%\n",
      "Precompute neighbors.[========================================] 100%\n",
      "Precompute neighbors.[========================================] 100%\n",
      "Precompute neighbors.[========================================] 100%\n",
      "Precompute neighbors.[========================================] 100%\n",
      "Precompute neighbors.[========================================] 100%\n",
      "Precompute neighbors.[========================================] 100%\n",
      "Precompute neighbors.[========================================] 100%\n",
      "Precompute neighbors.[========================================] 100%\n",
      "Precompute neighbors.[========================================] 100%\n",
      "Precompute neighbors.[========================================] 100%\n",
      "Precompute neighbors.[========================================] 100%\n",
      "Precompute neighbors.[========================================] 100%\n",
      "Precompute neighbors.[========================================] 100%\n",
      "Precompute neighbors.[========================================] 100%\n",
      "Precompute neighbors.[========================================] 100%\n",
      "Precompute neighbors.[========================================] 100%\n",
      "Precompute neighbors.[========================================] 100%\n",
      "Precompute neighbors.[========================================] 100%\n",
      "Precompute neighbors.[========================================] 100%\n",
      "Precompute neighbors.[========================================] 100%\n",
      "Precompute neighbors.[========================================] 100%\n",
      "Precompute neighbors.[========================================] 100%\n",
      "Precompute neighbors.[========================================] 100%\n",
      "Precompute neighbors.[========================================] 100%\n",
      "Precompute neighbors.[========================================] 100%\n",
      "Precompute neighbors.[========================================] 100%\n",
      "Precompute neighbors.[========================================] 100%\n",
      "Precompute neighbors.[========================================] 100%\n",
      "Precompute neighbors.[========================================] 100%\n",
      "Precompute neighbors.[========================================] 100%\n",
      "Precompute neighbors.[========================================] 100%\n",
      "Precompute neighbors.[========================================] 100%\n",
      "Precompute neighbors.[========================================] 100%\n",
      "Precompute neighbors.[========================================] 100%\n",
      "Precompute neighbors.[========================================] 100%\n",
      "Precompute neighbors.[========================================] 100%\n",
      "Precompute neighbors.[========================================] 100%\n",
      "Precompute neighbors.[========================================] 100%\n",
      "Precompute neighbors.[========================================] 100%\n",
      "Precompute neighbors.[========================================] 100%\n",
      "Precompute neighbors.[========================================] 100%\n",
      "Precompute neighbors.[========================================] 100%\n",
      "Precompute neighbors.[========================================] 100%\n",
      "Precompute neighbors.[========================================] 100%\n",
      "Precompute neighbors.[========================================] 100%\n",
      "Precompute neighbors.[========================================] 100%\n",
      "Precompute neighbors.[========================================] 100%\n",
      "Precompute neighbors.[========================================] 100%\n",
      "Precompute neighbors.[========================================] 100%\n",
      "Precompute neighbors.[========================================] 100%\n",
      "Precompute neighbors.[========================================] 100%\n",
      "Precompute neighbors.[========================================] 100%\n",
      "Precompute neighbors.[========================================] 100%\n",
      "Precompute neighbors.[========================================] 100%\n",
      "Precompute neighbors.[========================================] 100%\n",
      "Precompute neighbors.[========================================] 100%\n",
      "Precompute neighbors.[========================================] 100%\n",
      "Precompute neighbors.[========================================] 100%\n",
      "Precompute neighbors.[========================================] 100%\n",
      "Precompute neighbors.[========================================] 100%\n",
      "Precompute neighbors.[========================================] 100%\n",
      "Precompute neighbors.[========================================] 100%\n",
      "Precompute neighbors.[========================================] 100%\n",
      "Precompute neighbors.[========================================] 100%\n",
      "Precompute neighbors.[========================================] 100%\n",
      "Precompute neighbors.[========================================] 100%\n",
      "Precompute neighbors.[========================================] 100%\n",
      "Precompute neighbors.[========================================] 100%\n",
      "Precompute neighbors.[========================================] 100%\n",
      "Precompute neighbors.[========================================] 100%\n",
      "Precompute neighbors.[========================================] 100%\n",
      "Precompute neighbors.[========================================] 100%\n",
      "Precompute neighbors.[========================================] 100%\n",
      "Precompute neighbors.[========================================] 100%\n",
      "Precompute neighbors.[========================================] 100%\n",
      "Precompute neighbors.[========================================] 100%\n",
      "Precompute neighbors.[========================================] 100%\n",
      "Precompute neighbors.[========================================] 100%\n",
      "Precompute neighbors.[========================================] 100%\n",
      "Precompute neighbors.[========================================] 100%\n",
      "Precompute neighbors.[========================================] 100%\n",
      "Precompute neighbors.[========================================] 100%\n",
      "Precompute neighbors.[========================================] 100%\n",
      "Precompute neighbors.[========================================] 100%\n",
      "Precompute neighbors.[========================================] 100%\n",
      "Precompute neighbors.[========================================] 100%\n",
      "Precompute neighbors.[========================================] 100%\n",
      "Precompute neighbors.[========================================] 100%\n",
      "Precompute neighbors.[========================================] 100%\n",
      "Precompute neighbors.[========================================] 100%\n",
      "Precompute neighbors.[========================================] 100%\n",
      "Precompute neighbors.[========================================] 100%\n",
      "Precompute neighbors.[========================================] 100%\n",
      "Precompute neighbors.[========================================] 100%\n",
      "Precompute neighbors.[========================================] 100%\n",
      "Precompute neighbors.[========================================] 100%\n",
      "Precompute neighbors.[========================================] 100%\n",
      "Precompute neighbors.[========================================] 100%\n",
      "Precompute neighbors.[========================================] 100%\n",
      "Clustering[=======================================>] 97%\r"
     ]
    }
   ],
   "source": [
    "# Initialize Open3D Visualizer\n",
    "if flag_display:\n",
    "    vis = o3d.visualization.Visualizer()\n",
    "    vis.create_window()\n",
    "\n",
    "for n_frame in range(nb_frames):\n",
    "    \n",
    "    # Read point cloud\n",
    "    points = get_point_cloud(n_frame, actor)\n",
    "    pcd = o3d.geometry.PointCloud()\n",
    "    pcd.points = o3d.utility.Vector3dVector(points)\n",
    "    \n",
    "    # Voxel down sampling\n",
    "    downpcd = pcd.voxel_down_sample(0.1) # ToDo (Replace this line)\n",
    "    \n",
    "    # Transform points cloud from the LiDAR to the world frame\n",
    "    tf = get_tf_lidar2world(actor, n_frame)\n",
    "    # ToDo applied this transformation to the points cloud\n",
    "    downpcd.transform(tf)\n",
    "    \n",
    "    # Estimate normals\n",
    "    #ToDo estimate the normals\n",
    "    downpcd.estimate_normals()\n",
    "    downpcd.colors = o3d.utility.Vector3dVector(np.abs(np.array(downpcd.normals)))\n",
    "    \n",
    "    # Filter ground points\n",
    "    pcd_ground = ground_filtering(downpcd)\n",
    "    \n",
    "    # Filter ground points\n",
    "    pcd_ground = ground_filtering(downpcd)\n",
    "    \n",
    "    # Filter objects points\n",
    "    pcd_objects = objects_filtering(downpcd)\n",
    "    \n",
    "    # Clustering\n",
    "    pcd_objects, cluster_ids = clustering(pcd_objects)\n",
    "    \n",
    "    if flag_display:\n",
    "        # Clear previous geometries and add new point cloud to visualizer\n",
    "        vis.clear_geometries()\n",
    "        vis.add_geometry(pcd_objects)\n",
    "        \n",
    "        # Update the visualizer to show the new point cloud\n",
    "        vis.poll_events()\n",
    "        vis.update_renderer()\n",
    "\n",
    "        # Wait before updating the points cloud (adjust time as needed)\n",
    "        time.sleep(0.1)\n",
    "\n",
    "if flag_display:\n",
    "    # Close the visualizer\n",
    "    vis.destroy_window()"
   ]
  },
  {
   "cell_type": "code",
   "execution_count": null,
   "metadata": {},
   "outputs": [],
   "source": []
  }
 ],
 "metadata": {
  "kernelspec": {
   "display_name": "Python 3",
   "language": "python",
   "name": "python3"
  },
  "language_info": {
   "codemirror_mode": {
    "name": "ipython",
    "version": 3
   },
   "file_extension": ".py",
   "mimetype": "text/x-python",
   "name": "python",
   "nbconvert_exporter": "python",
   "pygments_lexer": "ipython3",
   "version": "3.8.10"
  }
 },
 "nbformat": 4,
 "nbformat_minor": 2
}
